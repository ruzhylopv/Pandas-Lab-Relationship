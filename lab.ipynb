{
 "cells": [
  {
   "cell_type": "code",
   "execution_count": 3,
   "metadata": {},
   "outputs": [],
   "source": [
    "import pandas as pd"
   ]
  },
  {
   "cell_type": "markdown",
   "metadata": {},
   "source": [
    "Нижче проаналізовані таблиці учнів щодо їхніх успіхів в навчанні чи якістю сімейних стосунків\n",
    " в кореляції з наявністю чи відсутністю романтичних стосунків."
   ]
  },
  {
   "cell_type": "markdown",
   "metadata": {},
   "source": [
    "### Запустіть клітинку з файлом, який бажаєте проаналізувати з розташованих нижче\n"
   ]
  },
  {
   "cell_type": "code",
   "execution_count": 7,
   "metadata": {},
   "outputs": [],
   "source": [
    "#Учні математики\n",
    "file = 'student-mat.csv'"
   ]
  },
  {
   "cell_type": "code",
   "execution_count": 2,
   "metadata": {},
   "outputs": [],
   "source": [
    "#Учні португальської\n",
    "file = 'student-por.csv'"
   ]
  },
  {
   "cell_type": "markdown",
   "metadata": {},
   "source": [
    "### Романтичні стосунки та успішність в навчанні"
   ]
  },
  {
   "cell_type": "code",
   "execution_count": 10,
   "metadata": {},
   "outputs": [
    {
     "data": {
      "text/html": [
       "<div>\n",
       "<style scoped>\n",
       "    .dataframe tbody tr th:only-of-type {\n",
       "        vertical-align: middle;\n",
       "    }\n",
       "\n",
       "    .dataframe tbody tr th {\n",
       "        vertical-align: top;\n",
       "    }\n",
       "\n",
       "    .dataframe thead tr th {\n",
       "        text-align: left;\n",
       "    }\n",
       "\n",
       "    .dataframe thead tr:last-of-type th {\n",
       "        text-align: right;\n",
       "    }\n",
       "</style>\n",
       "<table border=\"1\" class=\"dataframe\">\n",
       "  <thead>\n",
       "    <tr>\n",
       "      <th></th>\n",
       "      <th>absences</th>\n",
       "      <th>failures</th>\n",
       "      <th>G1</th>\n",
       "      <th>G2</th>\n",
       "      <th>G3</th>\n",
       "      <th>count</th>\n",
       "    </tr>\n",
       "    <tr>\n",
       "      <th></th>\n",
       "      <th>mean</th>\n",
       "      <th>mean</th>\n",
       "      <th>mean</th>\n",
       "      <th>mean</th>\n",
       "      <th>mean</th>\n",
       "      <th></th>\n",
       "    </tr>\n",
       "    <tr>\n",
       "      <th>romantic</th>\n",
       "      <th></th>\n",
       "      <th></th>\n",
       "      <th></th>\n",
       "      <th></th>\n",
       "      <th></th>\n",
       "      <th></th>\n",
       "    </tr>\n",
       "  </thead>\n",
       "  <tbody>\n",
       "    <tr>\n",
       "      <th>no</th>\n",
       "      <td>3.38</td>\n",
       "      <td>0.19</td>\n",
       "      <td>11.56</td>\n",
       "      <td>11.79</td>\n",
       "      <td>12.13</td>\n",
       "      <td>410</td>\n",
       "    </tr>\n",
       "    <tr>\n",
       "      <th>yes</th>\n",
       "      <td>4.14</td>\n",
       "      <td>0.28</td>\n",
       "      <td>11.13</td>\n",
       "      <td>11.20</td>\n",
       "      <td>11.52</td>\n",
       "      <td>239</td>\n",
       "    </tr>\n",
       "  </tbody>\n",
       "</table>\n",
       "</div>"
      ],
      "text/plain": [
       "         absences failures     G1     G2     G3 count\n",
       "             mean     mean   mean   mean   mean      \n",
       "romantic                                             \n",
       "no           3.38     0.19  11.56  11.79  12.13   410\n",
       "yes          4.14     0.28  11.13  11.20  11.52   239"
      ]
     },
     "execution_count": 10,
     "metadata": {},
     "output_type": "execute_result"
    }
   ],
   "source": [
    "def romantic_and_grades(filename):\n",
    "    grades = pd.read_csv(filename, sep=';')\n",
    "    grouped = grades.groupby('romantic')[['absences', 'failures', 'G1', 'G2', 'G3']].agg(['mean'])\n",
    "    counts = grades['romantic'].value_counts()\n",
    "    grouped['count'] = counts\n",
    "    grouped = grouped.round(2)\n",
    "    return grouped\n",
    "\n",
    "\n",
    "romantic_and_grades(file)"
   ]
  },
  {
   "cell_type": "markdown",
   "metadata": {},
   "source": [
    "### Романтичні стосунки та сімейний стан"
   ]
  },
  {
   "cell_type": "code",
   "execution_count": 9,
   "metadata": {},
   "outputs": [
    {
     "name": "stderr",
     "output_type": "stream",
     "text": [
      "C:\\Users\\Natalya\\AppData\\Local\\Temp\\ipykernel_22676\\1358396394.py:4: DeprecationWarning: DataFrameGroupBy.apply operated on the grouping columns. This behavior is deprecated, and in a future version of pandas the grouping columns will be excluded from the operation. Either pass `include_groups=False` to exclude the groupings or explicitly select the grouping columns after groupby to silence this warning.\n",
      "  grouped = data.groupby('romantic').apply(\n"
     ]
    },
    {
     "data": {
      "text/html": [
       "<div>\n",
       "<style scoped>\n",
       "    .dataframe tbody tr th:only-of-type {\n",
       "        vertical-align: middle;\n",
       "    }\n",
       "\n",
       "    .dataframe tbody tr th {\n",
       "        vertical-align: top;\n",
       "    }\n",
       "\n",
       "    .dataframe thead th {\n",
       "        text-align: right;\n",
       "    }\n",
       "</style>\n",
       "<table border=\"1\" class=\"dataframe\">\n",
       "  <thead>\n",
       "    <tr style=\"text-align: right;\">\n",
       "      <th></th>\n",
       "      <th>Parents live together (%)</th>\n",
       "      <th>Parents live apart (%)</th>\n",
       "      <th>Family greater than 3 (%)</th>\n",
       "      <th>Family less than 3 (%)</th>\n",
       "      <th>count</th>\n",
       "    </tr>\n",
       "    <tr>\n",
       "      <th>romantic</th>\n",
       "      <th></th>\n",
       "      <th></th>\n",
       "      <th></th>\n",
       "      <th></th>\n",
       "      <th></th>\n",
       "    </tr>\n",
       "  </thead>\n",
       "  <tbody>\n",
       "    <tr>\n",
       "      <th>no</th>\n",
       "      <td>89.0</td>\n",
       "      <td>11.0</td>\n",
       "      <td>69.3</td>\n",
       "      <td>30.7</td>\n",
       "      <td>410</td>\n",
       "    </tr>\n",
       "    <tr>\n",
       "      <th>yes</th>\n",
       "      <td>85.4</td>\n",
       "      <td>14.6</td>\n",
       "      <td>72.4</td>\n",
       "      <td>27.6</td>\n",
       "      <td>239</td>\n",
       "    </tr>\n",
       "  </tbody>\n",
       "</table>\n",
       "</div>"
      ],
      "text/plain": [
       "          Parents live together (%)  Parents live apart (%)  \\\n",
       "romantic                                                      \n",
       "no                             89.0                    11.0   \n",
       "yes                            85.4                    14.6   \n",
       "\n",
       "          Family greater than 3 (%)  Family less than 3 (%)  count  \n",
       "romantic                                                            \n",
       "no                             69.3                    30.7    410  \n",
       "yes                            72.4                    27.6    239  "
      ]
     },
     "execution_count": 9,
     "metadata": {},
     "output_type": "execute_result"
    }
   ],
   "source": [
    "def romantic_and_categories(filename):\n",
    "    data = pd.read_csv(filename, sep=';')\n",
    "\n",
    "    grouped = data.groupby('romantic').apply(\n",
    "        lambda group: pd.Series({\n",
    "            'Parents live together (%)': round((group['Pstatus'] == 'T').mean()*100, 1),\n",
    "            'Parents live apart (%)': round((group['Pstatus'] == 'A').mean()*100, 1),\n",
    "            'Family greater than 3 (%)': round((group['famsize'] == 'GT3').mean()*100, 1),\n",
    "            'Family less than 3 (%)': round((group['famsize'] == 'LE3').mean()*100, 1),\n",
    "        })\n",
    "    )\n",
    "\n",
    "    grouped['count'] = data['romantic'].value_counts()\n",
    "\n",
    "    \n",
    "    return grouped\n",
    "\n",
    "romantic_and_categories(file)"
   ]
  }
 ],
 "metadata": {
  "kernelspec": {
   "display_name": "Python 3",
   "language": "python",
   "name": "python3"
  },
  "language_info": {
   "codemirror_mode": {
    "name": "ipython",
    "version": 3
   },
   "file_extension": ".py",
   "mimetype": "text/x-python",
   "name": "python",
   "nbconvert_exporter": "python",
   "pygments_lexer": "ipython3",
   "version": "3.12.5"
  }
 },
 "nbformat": 4,
 "nbformat_minor": 2
}
